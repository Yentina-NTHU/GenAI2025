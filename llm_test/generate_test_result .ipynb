{
 "cells": [
  {
   "cell_type": "code",
   "execution_count": 1,
   "id": "3b766d46-37d5-410b-974b-12a83ab7704e",
   "metadata": {},
   "outputs": [
    {
     "name": "stdout",
     "output_type": "stream",
     "text": [
      "6458 number  of testing\n"
     ]
    }
   ],
   "source": [
    "import os\n",
    "import boto3\n",
    "from botocore.exceptions import ClientError\n",
    "\n",
    "testing_list = sorted(os.listdir(\"test\"))\n",
    "\n",
    "print(f\"{len(testing_list)} number  of testing\")"
   ]
  },
  {
   "cell_type": "code",
   "execution_count": 20,
   "id": "36ddb315-ede1-4ae0-b67e-94b05ef231f2",
   "metadata": {},
   "outputs": [
    {
     "name": "stdout",
     "output_type": "stream",
     "text": [
      "ACCT16914.json\n",
      "ACCT19572.json\n"
     ]
    }
   ],
   "source": [
    "print(testing_list[1600])\n",
    "print(testing_list[2230])"
   ]
  },
  {
   "cell_type": "code",
   "execution_count": 2,
   "id": "5947fd4c-d6d9-4578-a90f-b3569dbbe016",
   "metadata": {},
   "outputs": [],
   "source": [
    "brt = boto3.client(\"bedrock-runtime\")\n",
    "\n",
    "model_id = \"arn:aws:bedrock:us-west-2:455772463109:inference-profile/us.anthropic.claude-3-5-sonnet-20241022-v2:0\"\n",
    "# model_id = \"arn:aws:bedrock:us-west-2:455772463109:inference-profile/us.anthropic.claude-3-5-sonnet-20241022-v2:0\""
   ]
  },
  {
   "cell_type": "code",
   "execution_count": 3,
   "id": "0ca60672-d52d-4d46-bb62-b13b69e47085",
   "metadata": {},
   "outputs": [],
   "source": [
    "# Start a conversation with the user message.\n",
    "user_message = '''\n",
    "You are a professional banking and finance officer. Your current task is to determine, based on a given account’s transaction history, whether the account should be flagged as an alert (suspicious) account. Please judge carefully so as not to misclassify a normal account as suspicious.\n",
    "\n",
    "## Notes:\n",
    "\n",
    "1. Because ACCT31429 and ACCT31433 are internal bank intermediary accounts or virtual-number platform receiving accounts, most counterparties will be these accounts. If the account’s transactions are only with these accounts, do not regard that as problematic. Only consider it if the pattern of transactions with these accounts is abnormal.\n",
    "2. Only consider transactions from the past one month.\n",
    "3. Large transactions by themselves should not be deemed abnormal if they align with the customer’s asset level, income, or usual behavior.\n",
    "4. Clearly distinguish between an alert account and a non-alert account by evaluating **combinations** of the following risk factors, not individual ones.\n",
    "\n",
    "## Key Combined Features of Alert Accounts (must meet multiple criteria):\n",
    "\n",
    "1. **Few large deposits followed by many small withdrawals**:\n",
    "    - Presence of “a small number of large deposits” and “subsequent multiple small withdrawals”\n",
    "    - Deposit and withdrawal totals nearly equal, indicating funds are “in–out balanced” or “quickly drained”\n",
    "    - Withdrawal count significantly exceeds deposit count (usually ≥5:1)\n",
    "2. **Abnormally active account**:\n",
    "    - Daily average transaction count unusually high (usually >5/day)\n",
    "    - High proportion of transactions outside business hours\n",
    "    - Within a short period (e.g. 7 days), total transaction amount far exceeds account assets (AUM)\n",
    "3. **Balance-reset behavior**:\n",
    "    - After large transactions, the account balance repeatedly drops back to very low levels (e.g. around 1,000 TWD)\n",
    "    - Multiple cycles of “large deposit → large withdrawal → balance zeroed out”\n",
    "4. **Circular/hedging transactions**:\n",
    "    - Similar amounts deposited and withdrawn on the same day or within a short timeframe\n",
    "    - Net inflow ≈ net outflow, but large gross volumes\n",
    "5. **Transaction patterns inconsistent with customer profile**:\n",
    "    - Transaction amounts grossly mismatched with customer’s age or income level\n",
    "    - New account (<6 months) immediately showing abnormal large fund flows\n",
    "6. **Unidirectional Fund Flow Pattern**:\n",
    "    - Only outgoing transactions during the observation period, no incoming transactions\n",
    "    - Multiple consecutive outflows without corresponding income sources\n",
    "    - Continuous outflows with unclear funding sources\n",
    "7. **Non-standard Transaction Time Patterns**:\n",
    "    - Early morning transactions (0:00-6:00), especially large or frequent ones\n",
    "    - Combination patterns of late night and weekend transactions\n",
    "    - Key account operations conducted during non-working hours\n",
    "8. **Data Appearing Multiple Times or Repeatedly**\n",
    "    - Consider all data we give is correct, no system error.\n",
    "9. **Using Multiple Different Devices or IP Addresses for Transactions**\n",
    "\n",
    "## Typical Features of Non-Alert Accounts:\n",
    "\n",
    "1. Moderate transaction frequency (daily average <3)\n",
    "2. Funds movements have reasonable explanations (e.g. salary credits, regular payments)\n",
    "3. Large transactions may occur but infrequently and with clear purposes\n",
    "4. Low proportion of transactions outside business hours, or if present, small amounts/frequency\n",
    "5. Transaction patterns consistent with customer profile (age, income)\n",
    "6. No obvious balance resets or hedging behavior\n",
    "\n",
    "## Decision Criteria:\n",
    "\n",
    "- **Alert Account**: Meets multiple alert criteria simultaneously, with patterns recurring or sustained.\n",
    "- **Non-Alert Account**: May exhibit isolated risk factors, but overall transaction behavior is normal without multiple combined risk factors.\n",
    "\n",
    "Using this framework, please provide an objective, comprehensive risk analysis report for the account, and indicate your conclusion as [Alert Account / Non-Alert Account], formatted as follows:\n",
    "\n",
    "1. **Account Overview**\n",
    "    \n",
    "    [Review and present basic account information]\n",
    "    \n",
    "2. **Recent Transaction Summary**\n",
    "    \n",
    "    [Summarize transaction counts and key characteristics]\n",
    "    \n",
    "3. **Channels & Transaction Types Analysis**\n",
    "    \n",
    "    [Analyze channels and codes]\n",
    "    \n",
    "4. **Time Distribution Characteristics**\n",
    "    \n",
    "    [Analyze transaction timing patterns]\n",
    "    \n",
    "5. **Risk Factor Assessment**\n",
    "    \n",
    "    [Evaluate each risk factor in detail]\n",
    "    \n",
    "6. **Summary**\n",
    "    \n",
    "    [Overall evaluation]\n",
    "    \n",
    "7. **Conclusion**: [Alert Account / Non-Alert Account]\n",
    "\n",
    "## Example:\n",
    "\n",
    "- **Account Overview**\n",
    "    - **Account Number**: ACCT4242\n",
    "    - **Customer ID**: ID3986\n",
    "    - **Age / Income / AUM**: 48 years old / 510K–2M TWD annual income / 6 TWD balance\n",
    "    - **Digital Account**: Yes\n",
    "    - **Account Tenure**: > 6 months\n",
    "- **Recent Transaction Summary** (Last 30 Days)\n",
    "    - **Total Transactions**: 7\n",
    "    - **Incoming vs. Outgoing**: 2 incoming, 5 outgoing (incoming ratio 29 %)\n",
    "    - **Total Volume**: 701,167 TWD\n",
    "    - **Average Txn Amount**: 100,167 TWD\n",
    "    - **Maximum Txn Amount**: 299,996 TWD\n",
    "    - **Daily Average**: 2.33 txns/day over a 3-day span\n",
    "- **Channels & Transaction Types Analysis**\n",
    "    - **ATM (FEP-ATM-TXN)**: 3 deposits (2 × CD Transfer In via ACCT31429; 1 × large ATM deposit)\n",
    "    - **Stored-Value Platform**: 4 withdrawals of exactly 49,995 TWD each via ACCT31450\n",
    "    - **Digital-Bank-TXN**: Final large withdrawal (150,596 TWD) to ACCT31429\n",
    "    - **Intermediary Accounts**: ACCT31429 / ACCT31450—normal counterparties but patterns matter\n",
    "- **Time Distribution Characteristics**\n",
    "    - **Friday**: 3 txns at 20:00–21:00\n",
    "    - **Saturday**: 3 txns at 21:00–22:00\n",
    "    - **Sunday**: 1 txn at 15:00\n",
    "    - **After-Hours Concentration**: 6 of 7 txns occurred ≥ 20:00\n",
    "- **Risk Factor Assessment**\n",
    "    \n",
    "    \n",
    "    | Risk Factor | Observed | Explanation |\n",
    "    | --- | --- | --- |\n",
    "    | **1. Few large deposits → many smaller withdrawals** | Yes | Single large ATM deposit (299,996 TWD) followed by four equal withdrawals (~49,995 TWD) in quick succession |\n",
    "    | **2. Abnormally active account** | No | Peaks at 3 txns/day (< 5/day threshold) |\n",
    "    | **3. Balance-reset behavior** | Yes | Final digital-bank withdrawal (150,596 TWD) drains balance to 0 TWD shortly after large inflows |\n",
    "    | **4. Circular/hedging transactions** | No | In/out amounts are not closely matched on the same day |\n",
    "    | **5. Profile mismatch (volumes vs. AUM/income)** | Yes | Total 7-day volume (~701K TWD) is > 100 K × AUM (6 TWD); transaction sizes far exceed account balance |\n",
    "    | **6. Unidirectional fund-flow** | No | Both inflows and outflows are present |\n",
    "    | **7. Non-standard transaction times** | Yes | 86 % of txns took place between 20:00–06:00 |\n",
    "    | **8. Repeated identical data entries** | N/A | No duplicate records |\n",
    "    | **9. Multiple devices/IPs** | Yes | `is_same_device` and `is_same_ip` flags vary, indicating use of different endpoints |\n",
    "- **Summary**\n",
    "    - **Multiple red-flags** are present:\n",
    "        - Large one-off deposit quickly split into multiple withdrawals (Pattern 1)\n",
    "        - Balance entirely drained after large inflows (Pattern 3)\n",
    "        - Transaction volumes hugely out of line with the tiny account balance (Pattern 5)\n",
    "        - Concentration of activity in late-night hours (Pattern 7)\n",
    "    - These combined patterns are classic indicators of layering or rapid fund movements that warrant scrutiny.\n",
    "- **Conclusion**: **Alert Account**\n",
    "'''\n"
   ]
  },
  {
   "cell_type": "code",
   "execution_count": null,
   "id": "37707ebd-e918-44b1-8e45-80b276165643",
   "metadata": {},
   "outputs": [
    {
     "name": "stdout",
     "output_type": "stream",
     "text": [
      "running test  0   ACCT100.json\n",
      "running test  1   ACCT10007.json\n",
      "running test  2   ACCT10008.json\n",
      "running test  3   ACCT1001.json\n",
      "running test  4   ACCT10016.json\n"
     ]
    }
   ],
   "source": [
    "\n",
    "if not os.path.isdir(\"test_report\"):\n",
    "    os.mkdir(\"test_report\")\n",
    "\n",
    "\n",
    "\"\"\"\n",
    "see discord for more details\n",
    "\n",
    "\"\"\"\n",
    "error_list = []\n",
    "\n",
    "for i in range(0,800):\n",
    "\n",
    "    pth = f\"test/{testing_list[i]}\"\n",
    "    with open(pth, \"r\") as acc:\n",
    "        conversation = [\n",
    "            {\n",
    "                \"role\": \"user\",\n",
    "                \"content\": [{\"text\": user_message + str(acc.readlines())}],\n",
    "            }\n",
    "        ]\n",
    "\n",
    "        try:\n",
    "            print(\"running test \", i, \" \", testing_list[i])\n",
    "            response = brt.converse(\n",
    "                modelId=model_id,\n",
    "                messages=conversation,\n",
    "                inferenceConfig={\"maxTokens\": 2000, \"temperature\": 0.5, \"topP\": 0.9},\n",
    "            )\n",
    "            response_text = response[\"output\"][\"message\"][\"content\"][0][\"text\"]\n",
    "\n",
    "        except (ClientError, Exception) as e:\n",
    "            print(f\"ERROR: Can't invoke '{model_id}'. Reason: {e}\")\n",
    "            error_list.append(testing_list[i])\n",
    "            exit(1)\n",
    "\n",
    "        s_pth = f\"test_report/{testing_list[i].title()}.txt\"\n",
    "        \n",
    "        with open(s_pth, \"w\") as f:\n",
    "            f.write(response_text)    "
   ]
  },
  {
   "cell_type": "code",
   "execution_count": 7,
   "id": "ad35b258-16e6-4650-b200-bed6db4ca1dc",
   "metadata": {},
   "outputs": [
    {
     "data": {
      "text/plain": [
       "[]"
      ]
     },
     "execution_count": 7,
     "metadata": {},
     "output_type": "execute_result"
    }
   ],
   "source": [
    "error_list"
   ]
  },
  {
   "cell_type": "code",
   "execution_count": 5,
   "id": "ce6ae7c0-7140-4f84-8597-816036548d24",
   "metadata": {},
   "outputs": [
    {
     "name": "stdout",
     "output_type": "stream",
     "text": [
      "ACCT13386.json\n"
     ]
    }
   ],
   "source": [
    "print(testing_list[799])"
   ]
  },
  {
   "cell_type": "code",
   "execution_count": 12,
   "id": "136c1185-7e07-45fa-a010-1d170a22843f",
   "metadata": {},
   "outputs": [
    {
     "name": "stdout",
     "output_type": "stream",
     "text": [
      "400 number  of testing\n"
     ]
    }
   ],
   "source": [
    "sus_list = sorted(os.listdir(\"suspicious\"))\n",
    "non_list = sorted(os.listdir(\"non_suspicious_400\"))\n",
    "print(f\"{len(sus_list)} number  of testing\")"
   ]
  },
  {
   "cell_type": "code",
   "execution_count": null,
   "id": "299f292e-1727-40b8-89cd-ec1783a5725d",
   "metadata": {},
   "outputs": [
    {
     "name": "stdout",
     "output_type": "stream",
     "text": [
      "running sus  0   suspicious_accounts_ACCT10004.json\n",
      "running sus  0   non_suspicious_accounts_ACCT10217.json\n"
     ]
    }
   ],
   "source": [
    "if not os.path.isdir(\"sus_report\"):\n",
    "    os.mkdir(\"sus_report\")\n",
    "\n",
    "if not os.path.isdir(\"non_report\"):\n",
    "    os.mkdir(\"non_report\")\n",
    "\n",
    "error_list = []\n",
    "\n",
    "for i in range(0,400):\n",
    "\n",
    "    pth = f\"suspicious/{sus_list[i]}\"\n",
    "    with open(pth, \"r\") as acc:\n",
    "        conversation = [\n",
    "            {\n",
    "                \"role\": \"user\",\n",
    "                \"content\": [{\"text\": user_message + str(acc.readlines())}],\n",
    "            }\n",
    "        ]\n",
    "        try:\n",
    "            print(\"running sus \", i, \" \", sus_list[i])\n",
    "            response = brt.converse(\n",
    "                modelId=model_id,\n",
    "                messages=conversation,\n",
    "                inferenceConfig={\"maxTokens\": 2000, \"temperature\": 0.5, \"topP\": 0.9},\n",
    "            )\n",
    "            response_text = response[\"output\"][\"message\"][\"content\"][0][\"text\"]\n",
    "\n",
    "        except (ClientError, Exception) as e:\n",
    "            print(f\"ERROR: Can't invoke '{model_id}'. Reason: {e}\")\n",
    "            error_list.append(sus_list[i])\n",
    "            exit(1)\n",
    "\n",
    "        s_pth = f\"sus_report/{sus_list[i].title()}.txt\"\n",
    "        \n",
    "        with open(s_pth, \"w\") as f:\n",
    "            f.write(response_text) \n",
    "            \n",
    "    pth = f\"non_suspicious_400/{non_list[i]}\"\n",
    "    with open(pth, \"r\") as acc:\n",
    "        conversation = [\n",
    "            {\n",
    "                \"role\": \"user\",\n",
    "                \"content\": [{\"text\": user_message + str(acc.readlines())}],\n",
    "            }\n",
    "        ]\n",
    "        try:\n",
    "            print(\"running sus \", i, \" \", non_list[i])\n",
    "            response = brt.converse(\n",
    "                modelId=model_id,\n",
    "                messages=conversation,\n",
    "                inferenceConfig={\"maxTokens\": 2000, \"temperature\": 0.5, \"topP\": 0.9},\n",
    "            )\n",
    "            response_text = response[\"output\"][\"message\"][\"content\"][0][\"text\"]\n",
    "\n",
    "        except (ClientError, Exception) as e:\n",
    "            print(f\"ERROR: Can't invoke '{model_id}'. Reason: {e}\")\n",
    "            error_list.append(non_list[i])\n",
    "            exit(1)\n",
    "\n",
    "        s_pth = f\"non_report/{non_list[i].title()}.txt\"\n",
    "        \n",
    "        with open(s_pth, \"w\") as f:\n",
    "            f.write(response_text)"
   ]
  },
  {
   "cell_type": "code",
   "execution_count": 14,
   "id": "82722935-eb18-47c4-85b9-f590cc98f1c3",
   "metadata": {},
   "outputs": [
    {
     "name": "stdout",
     "output_type": "stream",
     "text": [
      "Test case 1: Alert Account\n",
      "Test case 2: Alert Account\n",
      "Test case 3: Alert Account\n",
      "Test case 4: Non-Alert Account\n",
      "Test case 5: Non-Alert Account\n",
      "Test case 6: Alert Account\n",
      "Test case 7: Non-Alert Account\n"
     ]
    }
   ],
   "source": [
    "import re\n",
    "\n",
    "def extract_conclusion(text):\n",
    "    # 正則表達式：抓 Conclusion 後，可能有冒號，可能有 ** 或 [] 包住 Alert/Non-Alert Account\n",
    "    match = re.search(r'Conclusion\\*?\\*?:?\\s*(?:\\*\\*|\\[)?(Alert Account|Non-Alert Account)(?:\\*\\*|\\])?', text, re.IGNORECASE)\n",
    "    if match:\n",
    "        return match.group(1)  # 只回傳 Alert Account 或 Non-Alert Account\n",
    "    else:\n",
    "        return None\n",
    "\n",
    "# 測試各種情況\n",
    "test_cases = [\n",
    "    \"7. **Conclusion**: **Alert Account**\",\n",
    "    \"7. **Conclusion**: [Alert Account]\",\n",
    "    \"7. Conclusion: Alert Account\",\n",
    "    \"7. Conclusion: [Non-Alert Account]\",\n",
    "    \"7) Conclusion: **Non-Alert Account**\",\n",
    "    \"Conclusion: Alert Account\",\n",
    "    \"Conclusion: [Non-Alert Account]\"\n",
    "]\n",
    "\n",
    "for i, text in enumerate(test_cases):\n",
    "    print(f\"Test case {i+1}: {extract_conclusion(text)}\")"
   ]
  },
  {
   "cell_type": "code",
   "execution_count": 15,
   "id": "1cde1e78-31e5-4171-a0ac-b7ea1b2d82a9",
   "metadata": {},
   "outputs": [
    {
     "name": "stdout",
     "output_type": "stream",
     "text": [
      "96\n",
      "304\n"
     ]
    }
   ],
   "source": [
    "import pandas as pd\n",
    "folder_path = './sus_report'\n",
    "\n",
    "# 儲存結果\n",
    "results = []\n",
    "non = 0\n",
    "sus = 0\n",
    "# 批次讀取資料夾中的每個檔案\n",
    "for filename in os.listdir(folder_path):\n",
    "    if filename.endswith('.txt') or filename.endswith('.md') or filename.endswith('.json'):  # 看你檔案格式調整\n",
    "        file_path = os.path.join(folder_path, filename)\n",
    "        with open(file_path, 'r', encoding='utf-8') as file:\n",
    "            content = file.read()\n",
    "            conclusion = extract_conclusion(content)\n",
    "            results.append(conclusion)\n",
    "            if conclusion == 'Non-Alert Account':\n",
    "                non += 1\n",
    "            else:\n",
    "                sus += 1\n",
    "\n",
    "print(non)\n",
    "print(sus)"
   ]
  },
  {
   "cell_type": "code",
   "execution_count": 16,
   "id": "a018252e-d9a1-4b2f-b3dd-4cc649ab4688",
   "metadata": {},
   "outputs": [
    {
     "name": "stdout",
     "output_type": "stream",
     "text": [
      "384\n",
      "16\n"
     ]
    }
   ],
   "source": [
    "folder_path = './non_report'\n",
    "\n",
    "# 儲存結果\n",
    "results = []\n",
    "non = 0\n",
    "sus = 0\n",
    "# 批次讀取資料夾中的每個檔案\n",
    "for filename in os.listdir(folder_path):\n",
    "    if filename.endswith('.txt') or filename.endswith('.md') or filename.endswith('.json'):  # 看你檔案格式調整\n",
    "        file_path = os.path.join(folder_path, filename)\n",
    "        with open(file_path, 'r', encoding='utf-8') as file:\n",
    "            content = file.read()\n",
    "            conclusion = extract_conclusion(content)\n",
    "            results.append(conclusion)\n",
    "            if conclusion == 'Non-Alert Account':\n",
    "                non += 1\n",
    "            else:\n",
    "                sus += 1\n",
    "\n",
    "print(non)\n",
    "print(sus)"
   ]
  },
  {
   "cell_type": "code",
   "execution_count": null,
   "id": "cef2ba48-a7a9-4c7d-b4cb-7fe9eb4639c2",
   "metadata": {},
   "outputs": [],
   "source": []
  }
 ],
 "metadata": {
  "kernelspec": {
   "display_name": "Python 3 (ipykernel)",
   "language": "python",
   "name": "python3"
  },
  "language_info": {
   "codemirror_mode": {
    "name": "ipython",
    "version": 3
   },
   "file_extension": ".py",
   "mimetype": "text/x-python",
   "name": "python",
   "nbconvert_exporter": "python",
   "pygments_lexer": "ipython3",
   "version": "3.12.9"
  }
 },
 "nbformat": 4,
 "nbformat_minor": 5
}
